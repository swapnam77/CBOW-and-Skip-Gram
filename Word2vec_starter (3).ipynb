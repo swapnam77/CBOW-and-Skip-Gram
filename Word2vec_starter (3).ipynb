{
  "nbformat": 4,
  "nbformat_minor": 0,
  "metadata": {
    "kernelspec": {
      "display_name": "Python 3",
      "language": "python",
      "name": "python3"
    },
    "language_info": {
      "codemirror_mode": {
        "name": "ipython",
        "version": 3
      },
      "file_extension": ".py",
      "mimetype": "text/x-python",
      "name": "python",
      "nbconvert_exporter": "python",
      "pygments_lexer": "ipython3",
      "version": "3.6.3"
    },
    "nbTranslate": {
      "displayLangs": [
        "*"
      ],
      "hotkey": "alt-t",
      "langInMainMenu": true,
      "sourceLang": "en",
      "targetLang": "fr",
      "useGoogleTranslate": true
    },
    "colab": {
      "name": "Word2vec_starter.ipynb",
      "provenance": []
    }
  },
  "cells": [
    {
      "cell_type": "markdown",
      "metadata": {
        "id": "Op0ecsJvVjlQ"
      },
      "source": [
        "The objective of this experiment is to understand word2vec."
      ]
    },
    {
      "cell_type": "markdown",
      "metadata": {
        "id": "q2sI1Y6kVjlR"
      },
      "source": [
        "In this experiment we will use **Mahabharata** as our text corpus"
      ]
    },
    {
      "cell_type": "markdown",
      "metadata": {
        "id": "ZtolTYDtVjlS"
      },
      "source": [
        "##### Importing the required packages"
      ]
    },
    {
      "cell_type": "code",
      "metadata": {
        "ExecuteTime": {
          "end_time": "2018-06-30T05:36:58.471881Z",
          "start_time": "2018-06-30T05:36:58.465484Z"
        },
        "id": "MeHMgdVVVjlT"
      },
      "source": [
        "import gensim\n",
        "# Operating System\n",
        "import os\n",
        "# Regular Expression\n",
        "import re\n",
        "# nltk packages\n",
        "from nltk.tokenize import sent_tokenize, word_tokenize\n",
        "from nltk.stem.porter import *\n",
        "from nltk.stem.snowball import SnowballStemmer\n",
        "# Basic Packages\n",
        "import pandas as pd\n",
        "import numpy as np\n",
        "from matplotlib import pyplot as plt\n",
        "# PCA Package\n",
        "from sklearn.decomposition import PCA"
      ],
      "execution_count": 1,
      "outputs": []
    },
    {
      "cell_type": "markdown",
      "metadata": {
        "id": "ux4IHEsKVjlW"
      },
      "source": [
        "Snowball is a small string processing language designed for creating stemming algorithms for use in Information Retrieval. "
      ]
    },
    {
      "cell_type": "markdown",
      "metadata": {
        "id": "eStdDDQaVjlW"
      },
      "source": [
        "##### Creating a new instance of a language specific subclass."
      ]
    },
    {
      "cell_type": "code",
      "metadata": {
        "ExecuteTime": {
          "end_time": "2018-06-30T05:37:28.281061Z",
          "start_time": "2018-06-30T05:37:28.276619Z"
        },
        "id": "I2x7x6N8VjlX"
      },
      "source": [
        "stemmer = SnowballStemmer(\"english\")"
      ],
      "execution_count": 2,
      "outputs": []
    },
    {
      "cell_type": "markdown",
      "metadata": {
        "id": "LUUNFlp1VjlY"
      },
      "source": [
        "##### In below cell we are trying to pre-process the text data and not stemming the stop words"
      ]
    },
    {
      "cell_type": "code",
      "metadata": {
        "ExecuteTime": {
          "end_time": "2018-06-30T05:41:28.851477Z",
          "start_time": "2018-06-30T05:41:28.842085Z"
        },
        "id": "aUw4YE6cVjlZ"
      },
      "source": [
        "stopWords = pd.read_csv('stopwords.txt').values\n",
        "\n",
        "class MySentences(object):\n",
        "    def __init__(self, fnamelist):\n",
        "        self.fnamelist = fnamelist\n",
        "        # Creating a set of vocabulary\n",
        "        self.vocabulary = set([])\n",
        "\n",
        "    def __iter__(self):\n",
        "        for fname in self.fnamelist:\n",
        "            for line in open(fname, encoding='latin1'):\n",
        "                # Find all the words that has letters from 2 - 15. If the words are longer than that ignore.\n",
        "                words = re.findall(r'(\\b[A-Za-z][a-z]{2,15}\\b)', line)\n",
        "                # Stemming a word.\n",
        "                words = [ stemmer.stem(word.lower()) for word in words if not word.lower() in stopWords]\n",
        "                for word in words:\n",
        "                    self.vocabulary.add(word)\n",
        "                yield words"
      ],
      "execution_count": 3,
      "outputs": []
    },
    {
      "cell_type": "markdown",
      "metadata": {
        "id": "NG2jG7itVjlb"
      },
      "source": [
        "##### In below cell we will read the data using an iterator in the class MySentences(). \n",
        "\n",
        "Gensim model: https://radimrehurek.com/gensim/models/word2vec.html"
      ]
    },
    {
      "cell_type": "code",
      "metadata": {
        "ExecuteTime": {
          "end_time": "2018-06-30T05:43:17.493895Z",
          "start_time": "2018-06-30T05:43:17.464137Z"
        },
        "id": "507Pc7_UVjlc"
      },
      "source": [
        "sentences = MySentences(['MB.txt']) # a memory-friendly iterator\n",
        "# model = gensim.models.Word2Vec(sentences, min_count=100)\n",
        "model_load = gensim.models.Word2Vec.load('MB2Vec.bin')"
      ],
      "execution_count": 5,
      "outputs": []
    },
    {
      "cell_type": "code",
      "metadata": {
        "id": "CFGPCACsYnlf"
      },
      "source": [
        "# model_load = model"
      ],
      "execution_count": 7,
      "outputs": []
    },
    {
      "cell_type": "markdown",
      "metadata": {
        "id": "ez1FTOIbVjld"
      },
      "source": [
        "##### Lets see the most similar words related to different characters"
      ]
    },
    {
      "cell_type": "code",
      "metadata": {
        "ExecuteTime": {
          "end_time": "2018-06-30T05:45:06.801555Z",
          "start_time": "2018-06-30T05:45:06.792788Z"
        },
        "colab": {
          "base_uri": "https://localhost:8080/"
        },
        "id": "kNU3T0IpVjle",
        "outputId": "c55f7212-fd52-402e-b331-69216e7e3347"
      },
      "source": [
        "model_load.wv.most_similar('krishna')[:3]"
      ],
      "execution_count": 8,
      "outputs": [
        {
          "output_type": "execute_result",
          "data": {
            "text/plain": [
              "[('kesava', 0.8457130789756775),\n",
              " ('vasudeva', 0.8021591901779175),\n",
              " ('govinda', 0.7766404151916504)]"
            ]
          },
          "metadata": {
            "tags": []
          },
          "execution_count": 8
        }
      ]
    },
    {
      "cell_type": "code",
      "metadata": {
        "ExecuteTime": {
          "end_time": "2018-06-30T05:47:34.528017Z",
          "start_time": "2018-06-30T05:47:34.520211Z"
        },
        "colab": {
          "base_uri": "https://localhost:8080/"
        },
        "id": "X3lgOT6eVjle",
        "outputId": "be91e7d9-f31f-4c2c-dde2-a8a0c79d5915"
      },
      "source": [
        "model_load.wv.most_similar('arjuna')[:3]"
      ],
      "execution_count": 9,
      "outputs": [
        {
          "output_type": "execute_result",
          "data": {
            "text/plain": [
              "[('partha', 0.9020223021507263),\n",
              " ('dhananjaya', 0.8211590051651001),\n",
              " ('vibhatsu', 0.8084746599197388)]"
            ]
          },
          "metadata": {
            "tags": []
          },
          "execution_count": 9
        }
      ]
    },
    {
      "cell_type": "code",
      "metadata": {
        "ExecuteTime": {
          "end_time": "2018-06-30T05:51:23.251064Z",
          "start_time": "2018-06-30T05:51:23.235495Z"
        },
        "colab": {
          "base_uri": "https://localhost:8080/"
        },
        "id": "3pqXdV8CVjlf",
        "outputId": "070c9e44-2ad8-4c38-c77b-bdba69c417de"
      },
      "source": [
        "model_load.wv.most_similar('virata')[:3]"
      ],
      "execution_count": 10,
      "outputs": [
        {
          "output_type": "execute_result",
          "data": {
            "text/plain": [
              "[('drupada', 0.8678191900253296),\n",
              " ('chedi', 0.8376131057739258),\n",
              " ('kasi', 0.8284690380096436)]"
            ]
          },
          "metadata": {
            "tags": []
          },
          "execution_count": 10
        }
      ]
    },
    {
      "cell_type": "markdown",
      "metadata": {
        "id": "ROdnHzltVjlf"
      },
      "source": [
        "##### We will save the trained vectors ."
      ]
    },
    {
      "cell_type": "code",
      "metadata": {
        "ExecuteTime": {
          "end_time": "2018-06-30T04:39:46.897701Z",
          "start_time": "2018-06-30T04:39:46.892679Z"
        },
        "id": "KUhEueNGVjlg"
      },
      "source": [
        "#model = model.save(\"MB2Vec.bin\")"
      ],
      "execution_count": 11,
      "outputs": []
    },
    {
      "cell_type": "markdown",
      "metadata": {
        "id": "I3glFGOwVjlh"
      },
      "source": [
        "##### Iterating through the vocabulary and constructing the word and vector list"
      ]
    },
    {
      "cell_type": "code",
      "metadata": {
        "ExecuteTime": {
          "end_time": "2018-06-30T05:52:10.387941Z",
          "start_time": "2018-06-30T05:52:09.839935Z"
        },
        "scrolled": true,
        "id": "X4jhp_bPVjlh"
      },
      "source": [
        "words_list = np.array([])\n",
        "vector_list = np.array([])\n",
        "for i in model_load.wv.vocab:\n",
        "    # print(i)\n",
        "    try :\n",
        "        words_list = np.append(words_list, i)\n",
        "        vector_list = np.append(vector_list, model_load.wv[i])\n",
        "    except :\n",
        "        pass\n",
        "vector_list = vector_list.reshape(len(model_load.wv.vocab), -1)"
      ],
      "execution_count": 21,
      "outputs": []
    },
    {
      "cell_type": "code",
      "metadata": {
        "ExecuteTime": {
          "end_time": "2018-06-30T05:52:10.656217Z",
          "start_time": "2018-06-30T05:52:10.644233Z"
        },
        "id": "oq8tQUEOVjlj",
        "colab": {
          "base_uri": "https://localhost:8080/"
        },
        "outputId": "679ceb2c-31c3-4d43-a3bd-fdc26e5e6b4e"
      },
      "source": [
        "vector_list"
      ],
      "execution_count": 14,
      "outputs": [
        {
          "output_type": "execute_result",
          "data": {
            "text/plain": [
              "array([[ 5.91569185e-01, -3.60498458e-01, -8.69407177e-01, ...,\n",
              "         1.63720942e+00,  6.62568867e-01, -2.57091194e-01],\n",
              "       [ 8.46108347e-02,  7.13719949e-02, -1.97172448e-01, ...,\n",
              "         6.35522425e-01,  3.18951041e-01, -1.30285144e-01],\n",
              "       [ 7.10277319e-01, -5.17078102e-01, -7.23681211e-01, ...,\n",
              "         1.74011123e+00,  6.44196212e-01, -5.45892417e-01],\n",
              "       ...,\n",
              "       [-6.99568316e-02, -4.01841879e-01,  3.91527712e-01, ...,\n",
              "         1.00422479e-01, -2.12643310e-01, -7.02344030e-02],\n",
              "       [ 1.34031460e-01, -1.01951718e-01,  1.54690519e-01, ...,\n",
              "        -1.30352026e-04,  1.24915764e-01, -2.71246642e-01],\n",
              "       [-9.66004506e-02, -2.63817251e-01,  1.88694939e-01, ...,\n",
              "         3.53449911e-01, -9.12723318e-02, -6.48950189e-02]])"
            ]
          },
          "metadata": {
            "tags": []
          },
          "execution_count": 14
        }
      ]
    },
    {
      "cell_type": "markdown",
      "metadata": {
        "id": "oFK6dlynVjlk"
      },
      "source": [
        "##### Applying PCA on the vector_list to reduce the dimensions"
      ]
    },
    {
      "cell_type": "code",
      "metadata": {
        "ExecuteTime": {
          "end_time": "2018-06-30T05:54:45.892434Z",
          "start_time": "2018-06-30T05:54:45.872925Z"
        },
        "id": "_vQNJnePVjlk"
      },
      "source": [
        "pca = PCA(n_components=2)\n",
        "pca.fit(vector_list)\n",
        "compressed_list =pca.transform(vector_list)"
      ],
      "execution_count": 15,
      "outputs": []
    },
    {
      "cell_type": "markdown",
      "metadata": {
        "id": "M2Ap1190Vjll"
      },
      "source": [
        "##### Checking the shape of the vector_list"
      ]
    },
    {
      "cell_type": "code",
      "metadata": {
        "ExecuteTime": {
          "end_time": "2018-06-30T05:55:00.159024Z",
          "start_time": "2018-06-30T05:55:00.153531Z"
        },
        "id": "lHiJ_7v7Vjlm",
        "colab": {
          "base_uri": "https://localhost:8080/"
        },
        "outputId": "6dae7bbb-f7fe-4a28-9937-73d3466d2aed"
      },
      "source": [
        "vector_list.shape"
      ],
      "execution_count": 16,
      "outputs": [
        {
          "output_type": "execute_result",
          "data": {
            "text/plain": [
              "(1701, 100)"
            ]
          },
          "metadata": {
            "tags": []
          },
          "execution_count": 16
        }
      ]
    },
    {
      "cell_type": "markdown",
      "metadata": {
        "id": "5bzUzscYVjlm"
      },
      "source": [
        "##### Checking the shape of the compressed_list after applying PCA"
      ]
    },
    {
      "cell_type": "code",
      "metadata": {
        "ExecuteTime": {
          "end_time": "2018-06-30T05:55:01.105289Z",
          "start_time": "2018-06-30T05:55:01.095715Z"
        },
        "id": "9NwX_6EPVjln",
        "colab": {
          "base_uri": "https://localhost:8080/"
        },
        "outputId": "37e93fd4-8b88-44bf-e88b-4c444aa9c564"
      },
      "source": [
        "compressed_list.shape"
      ],
      "execution_count": 17,
      "outputs": [
        {
          "output_type": "execute_result",
          "data": {
            "text/plain": [
              "(1701, 2)"
            ]
          },
          "metadata": {
            "tags": []
          },
          "execution_count": 17
        }
      ]
    },
    {
      "cell_type": "markdown",
      "metadata": {
        "id": "vJnikQUJVjln"
      },
      "source": [
        "##### Let us find the location of some characters in word_list to get the locations"
      ]
    },
    {
      "cell_type": "code",
      "metadata": {
        "ExecuteTime": {
          "end_time": "2018-06-30T05:55:06.080485Z",
          "start_time": "2018-06-30T05:55:06.070111Z"
        },
        "id": "LZ1hcGgHVjln",
        "colab": {
          "base_uri": "https://localhost:8080/"
        },
        "outputId": "9bec3108-edbe-4d72-e888-6dbf2eaec684"
      },
      "source": [
        "characters = ['dussasana','sakuni','duryodhana','bhishma', 'krishna','madri','pandu', 'kunti', 'karna', 'bhima', 'arjuna', 'nakula', 'sahadeva', 'draupadi']\n",
        "locs = [np.where(words_list == x)[0][0] for x in characters]\n",
        "print(locs)"
      ],
      "execution_count": 18,
      "outputs": [
        {
          "output_type": "stream",
          "text": [
            "[1627, 1626, 1522, 19, 1245, 1500, 1232, 245, 1659, 1572, 1381, 1646, 1531, 1603]\n"
          ],
          "name": "stdout"
        }
      ]
    },
    {
      "cell_type": "markdown",
      "metadata": {
        "id": "Rt-kysGWVjlo"
      },
      "source": [
        "##### Let us Plot the data"
      ]
    },
    {
      "cell_type": "code",
      "metadata": {
        "ExecuteTime": {
          "end_time": "2018-06-30T05:55:10.380328Z",
          "start_time": "2018-06-30T05:55:10.121894Z"
        },
        "id": "14vY6e2PVjlo",
        "colab": {
          "base_uri": "https://localhost:8080/",
          "height": 320
        },
        "outputId": "b6105fb6-8f9a-4199-926c-b334518bdcc7"
      },
      "source": [
        "fig = plt.figure(figsize=(5,5))\n",
        "ax = fig.add_subplot(111)\n",
        "for character, pos in zip(characters, locs):\n",
        "    m = model_load.wv.get_vector(character)\n",
        "    value = pca.transform([m])[0]\n",
        "    ax.plot(value[0], value[1], \"gx\")\n",
        "    ax.annotate(words_list[pos], xy=value, xytext=value)\n",
        "plt.show()\n",
        "fig.savefig('word2vec.png')"
      ],
      "execution_count": 19,
      "outputs": [
        {
          "output_type": "display_data",
          "data": {
            "image/png": "[encoded data removed]",
            "text/plain": [
              "<Figure size 360x360 with 1 Axes>"
            ]
          },
          "metadata": {
            "tags": [],
            "needs_background": "light"
          }
        }
      ]
    },
    {
      "cell_type": "markdown",
      "metadata": {
        "id": "0JIeKOVnyeT7"
      },
      "source": [
        "###### Characters are grouped together based on word2vec learnt by the model."
      ]
    },
    {
      "cell_type": "markdown",
      "metadata": {
        "id": "qlUVTZNqVjlp"
      },
      "source": [
        "##### We will see the most similar characters related to characters list as shown below.\n",
        "\n",
        "##### characters = ['dussasana','sakuni','duryodhana','bhishma', 'krishna','madri','pandu', 'kunti', 'karna', 'bhima', 'arjuna', 'nakula', 'sahadeva', 'draupadi']"
      ]
    },
    {
      "cell_type": "code",
      "metadata": {
        "ExecuteTime": {
          "end_time": "2018-06-30T04:40:01.705867Z",
          "start_time": "2018-06-30T04:40:01.682697Z"
        },
        "id": "fg1OsiEvVjlq",
        "colab": {
          "base_uri": "https://localhost:8080/"
        },
        "outputId": "090fca4d-53e2-4d3e-80a6-01433486796d"
      },
      "source": [
        "# Persons closer to the characters of our choice based on the word2vec model\n",
        "for character in characters:\n",
        "    near = model_load.wv.most_similar(character)[:5]\n",
        "    nearNames = [x[0] for x in near]\n",
        "    print(character, ':'.join(nearNames), sep=\"\\t\")"
      ],
      "execution_count": 20,
      "outputs": [
        {
          "output_type": "stream",
          "text": [
            "dussasana\tsakuni:duhsasana:vikarna:chitrasena:valhika\n",
            "sakuni\tdussasana:duhsasana:vikarna:suvala:valhika\n",
            "duryodhana\tdussasana:suyodhana:sakuni:jayadratha:dhritarashtra\n",
            "bhishma\tsalya:vaisampayana:sanjaya:savyasachin:kama\n",
            "krishna\tkesava:vasudeva:govinda:madhava:vibhatsu\n",
            "madri\tsomadatta:subhadra:prishata:suvala:valiant\n",
            "pandu\tpritha:kunti:radha:suta:subhadra\n",
            "kunti\tpritha:radha:pandu:suta:santanu\n",
            "karna\tduhsasana:yuyudhana:abhimanyu:bhagadatta:jayadratha\n",
            "bhima\tbhimasena:vrikodara:abhimanyu:satyaki:lakshmana\n",
            "arjuna\tpartha:dhananjaya:vibhatsu:kama:bhima\n",
            "nakula\tsahadeva:vikarna:aswatthaman:duhsasana:satyaki\n",
            "sahadeva\tnakula:satyaki:duhsasana:vikarna:dhrishtadyumna\n",
            "draupadi\tdrupada:sakuni:dussasana:madri:suvala\n"
          ],
          "name": "stdout"
        }
      ]
    },
    {
      "cell_type": "code",
      "metadata": {
        "id": "w_WXGBgVVjlq"
      },
      "source": [
        "#TASK Modify the gensim word2vec model to train skip gram model."
      ],
      "execution_count": null,
      "outputs": []
    }
  ]
}